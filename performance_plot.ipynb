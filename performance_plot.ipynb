{
 "cells": [
  {
   "cell_type": "code",
   "execution_count": 37,
   "id": "2a4086b5-7fbe-4764-95ff-7d4120867679",
   "metadata": {},
   "outputs": [],
   "source": [
    "#!/usr/bin/env python3\n",
    "# -*- coding: utf-8 -*-\n",
    "import sys\n",
    "import torch, os, argparse\n",
    "import numpy as np\n",
    "from matplotlib import pyplot as plt\n",
    "\n",
    "def performance_plot(file):\n",
    "    # Target weights - replace with target model\n",
    "    target_weights = sys.path[0] + file\n",
    "    contents = torch.load(target_weights)\n",
    "\n",
    "    train_loss = contents['train_loss']\n",
    "    train_nrmse = contents['train_nrmse']\n",
    "    val_loss = contents['val_loss']\n",
    "\n",
    "    steps = range(0, len(train_loss)-50, 500)\n",
    "    plt.figure(figsize=(10,6))\n",
    "    plt.plot(steps, [train_loss[x] for x in steps])\n",
    "    plt.plot(steps, [val_loss[x] for x in range(len(steps))])\n",
    "    plt.xlabel('Steps')\n",
    "    plt.ylabel('Loss (EMA)')\n",
    "    plt.legend(['train_loss', 'val_loss'])\n",
    "\n",
    "    plt.figure(figsize=(10,6))\n",
    "    plt.plot(steps, [train_nrmse[x] for x in steps])\n",
    "    plt.xlabel('Steps')\n",
    "    plt.ylabel('NRMSE')\n",
    "    plt.legend(['train_nrmse'])"
   ]
  },
  {
   "cell_type": "code",
   "execution_count": 47,
   "id": "6ff2aa30-be6c-41ff-8827-fdd0d83ace59",
   "metadata": {},
   "outputs": [],
   "source": [
    "# synthetic_128 = '/models/sigma_begin226_sigma_end0.0_num_classes2311.0_sigma_rate1.0_epochs800.0/final_model.pt'\n",
    "# performance_plot(synthetic_128)"
   ]
  },
  {
   "cell_type": "code",
   "execution_count": 48,
   "id": "593db936-2a9a-4b81-b5a6-c960489036e4",
   "metadata": {},
   "outputs": [],
   "source": [
    "# synthetic_512 = '/models/sigma_begin350_sigma_end0.0_num_classes2311.0_sigma_rate1.0_epochs100.0/final_model.pt'\n",
    "# performance_plot(synthetic_512)"
   ]
  },
  {
   "cell_type": "code",
   "execution_count": 49,
   "id": "b4454087-1e37-435d-9331-7aa5806aa56e",
   "metadata": {},
   "outputs": [],
   "source": [
    "# mimo = '/models/sigma_begin39_sigma_end0.0_num_classes2311.0_sigma_rate1.0_epochs800.0/final_model.pt'\n",
    "# performance_plot(mimo)"
   ]
  },
  {
   "cell_type": "code",
   "execution_count": 50,
   "id": "9a3b1911-e05d-489f-8335-c3b003b2686d",
   "metadata": {},
   "outputs": [],
   "source": [
    "# range_doppler_th0_3 = '/models/sigma_begin231036_sigma_end0.0_sigma_rate1.0_epochs200.0/final_model.pt'\n",
    "# performance_plot(range_doppler_th0_3)"
   ]
  },
  {
   "cell_type": "code",
   "execution_count": null,
   "id": "6ea43cdb-6f8a-487c-b806-d76a99d41aa7",
   "metadata": {},
   "outputs": [],
   "source": []
  }
 ],
 "metadata": {
  "kernelspec": {
   "display_name": "PyTorch-GPU",
   "language": "python",
   "name": "pytorch-gpu"
  },
  "language_info": {
   "codemirror_mode": {
    "name": "ipython",
    "version": 3
   },
   "file_extension": ".py",
   "mimetype": "text/x-python",
   "name": "python",
   "nbconvert_exporter": "python",
   "pygments_lexer": "ipython3",
   "version": "3.10.4"
  }
 },
 "nbformat": 4,
 "nbformat_minor": 5
}
